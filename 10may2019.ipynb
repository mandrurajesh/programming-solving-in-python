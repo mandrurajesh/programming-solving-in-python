{
 "cells": [
  {
   "cell_type": "markdown",
   "metadata": {},
   "source": [
    "### Problem 1:\n",
    "#### Problem Statement: Factorial of a given number using recursive\n",
    "\n",
    "#### CONSTRAINTS: Integer \n",
    "\n",
    "#### Test cases\n",
    "* Factorial(5) -> 120\n",
    "* Factorial (6) -> 720"
   ]
  },
  {
   "cell_type": "code",
   "execution_count": 1,
   "metadata": {},
   "outputs": [
    {
     "name": "stdout",
     "output_type": "stream",
     "text": [
      "120\n",
      "720\n"
     ]
    }
   ],
   "source": [
    "def factorial(n1):\n",
    "    if(n1==1):\n",
    "        return n1\n",
    "    else:\n",
    "        return factorial(n1-1)*n1\n",
    "print(factorial(5)) \n",
    "print(factorial (6)) "
   ]
  },
  {
   "cell_type": "markdown",
   "metadata": {},
   "source": [
    "### Problem 2\n",
    "#### Problem Statement: power of number using iteration\n",
    "\n",
    "#### CONSTRAINTS: Integer,integer\n",
    "\n",
    "#### Test cases\n",
    "* power(2,10)"
   ]
  },
  {
   "cell_type": "code",
   "execution_count": 1,
   "metadata": {},
   "outputs": [
    {
     "data": {
      "text/plain": [
       "1024"
      ]
     },
     "execution_count": 1,
     "metadata": {},
     "output_type": "execute_result"
    }
   ],
   "source": [
    "def power(n,r):\n",
    "    prod=1\n",
    "    for i in range(1,r+1):\n",
    "        prod *=n\n",
    "    return prod\n",
    "power(2,10)"
   ]
  },
  {
   "cell_type": "markdown",
   "metadata": {},
   "source": [
    "### Problem 3:\n",
    "#### Problem Statement: power of a number using resursive\n",
    "\n",
    "#### CONSTRAINTS: Integer \n",
    "\n",
    "#### Test cases\n",
    "* resursive(2,3)"
   ]
  },
  {
   "cell_type": "code",
   "execution_count": 2,
   "metadata": {},
   "outputs": [
    {
     "data": {
      "text/plain": [
       "8"
      ]
     },
     "execution_count": 2,
     "metadata": {},
     "output_type": "execute_result"
    }
   ],
   "source": [
    "def recursivepower(n,r):\n",
    "    if(r==1):\n",
    "        return n\n",
    "    else:\n",
    "        return recursivepower(n,r-1)*n\n",
    "recursivepower(2,3)"
   ]
  },
  {
   "cell_type": "markdown",
   "metadata": {},
   "source": [
    "### Problem 4:\n",
    "#### Problem Statement: GCD using Resursive\n",
    "\n",
    "#### CONSTRAINTS: Integer \n",
    "\n",
    "#### Test cases\n",
    "* gcdrecursive(12,39)"
   ]
  },
  {
   "cell_type": "code",
   "execution_count": 5,
   "metadata": {},
   "outputs": [
    {
     "data": {
      "text/plain": [
       "3"
      ]
     },
     "execution_count": 5,
     "metadata": {},
     "output_type": "execute_result"
    }
   ],
   "source": [
    "def gcdrecursive(a,b):\n",
    "    if(b%a==0):\n",
    "        return a\n",
    "    else:\n",
    "        return gcdrecursive(b%a,a)\n",
    "gcdrecursive(12,39)"
   ]
  },
  {
   "cell_type": "markdown",
   "metadata": {},
   "source": [
    "### Problem 5:\n",
    "#### Problem Statement: Towers of Honai using resursive\n",
    "\n",
    "#### CONSTRAINTS: Integer \n",
    "\n",
    "#### Test cases\n",
    "* towersofHanoi(1,'A','B','C')    \n",
    "* towersofHanoi(3,'A','B','C')"
   ]
  },
  {
   "cell_type": "code",
   "execution_count": 1,
   "metadata": {},
   "outputs": [
    {
     "name": "stdout",
     "output_type": "stream",
     "text": [
      "Move 1 disk from A to C\n",
      "Move 1 disk from A to C\n",
      "Move 2 disk from A to B\n",
      "Move 1 disk from C to B\n",
      "Move 3 disk from A to C\n",
      "Move 1 disk from B to A\n",
      "Move 2 disk from B to C\n",
      "Move 1 disk from A to C\n"
     ]
    }
   ],
   "source": [
    "def towersofHanoi(n,source,temp,dest):\n",
    "    if (n==1):\n",
    "        print('Move',n,'disk from',source,'to',dest)\n",
    "        return\n",
    "    else:\n",
    "        towersofHanoi(n-1,source,dest,temp)\n",
    "        print('Move',n,'disk from',source,'to',dest)\n",
    "        towersofHanoi(n-1,temp,source,dest)\n",
    "        return\n",
    "\n",
    "towersofHanoi(1,'A','B','C')    \n",
    "towersofHanoi(3,'A','B','C')"
   ]
  },
  {
   "cell_type": "markdown",
   "metadata": {},
   "source": [
    "## Problem 6 : \n",
    "\n",
    "### Problem Statement : Define a recursive function to generate the nth Fibonacci number.  \n",
    "\n",
    "### Constraints : Both numbers should be in the range of [1,1000]\n",
    "\n",
    "### Test Cases:\n",
    "* recur_fibo(5)\n",
    "* recur_fibo(8)\n"
   ]
  },
  {
   "cell_type": "code",
   "execution_count": 3,
   "metadata": {},
   "outputs": [
    {
     "name": "stdout",
     "output_type": "stream",
     "text": [
      "3\n",
      "13\n"
     ]
    }
   ],
   "source": [
    "def recur_fibo(n):\n",
    "    if n < 0:\n",
    "        print(\"enter valid inout.\")\n",
    "        return -1\n",
    "    elif n==1:\n",
    "        return 0\n",
    "    elif n==2:\n",
    "        return 1\n",
    "    else:\n",
    "        return recur_fibo(n-1) + recur_fibo(n-2)\n",
    "    \n",
    "print(recur_fibo(5))\n",
    "print(recur_fibo(8))"
   ]
  },
  {
   "cell_type": "markdown",
   "metadata": {},
   "source": [
    "## Problem 7 : \n",
    "\n",
    "### Problem Statement: Define a function to identity the number of times a substring is repeating in a given string\n",
    "\n",
    "### Constraints : --------\n",
    "\n",
    "### Test Cases:\n",
    "* substringCount('str', 'substr') -> 1\n",
    "* substringCount('1234567891122334455', '3') -> 3\n",
    "* substringCount('abccddccc', 'cc') -> 3\n",
    "* substringCount('aaaaaaa', 'aaa' ) -> 5\n",
    "\n"
   ]
  },
  {
   "cell_type": "code",
   "execution_count": 4,
   "metadata": {},
   "outputs": [
    {
     "name": "stdout",
     "output_type": "stream",
     "text": [
      "1\n",
      "3\n",
      "3\n",
      "5\n"
     ]
    }
   ],
   "source": [
    "def substringCount(a,key):\n",
    "    count=0\n",
    "    l=len(key)\n",
    "    for i in range (0,len(a)-len(key)+1):\n",
    "        if a[i:l]==key:\n",
    "            count+=1\n",
    "        l+=1\n",
    "    return count\n",
    "print(substringCount('substr', 'str'))\n",
    "print(substringCount('1234567891122334455', '3'))\n",
    "print(substringCount('abccddccc', 'cc'))\n",
    "print(substringCount('aaaaaaa', 'aaa' ))\n"
   ]
  },
  {
   "cell_type": "markdown",
   "metadata": {},
   "source": [
    "## Problem 8 : \n",
    "\n",
    "### Problem Statement:  Define a function to merge the characters of two strings alternatively. The remaining characters of the longer string are printed in the same order at the end.\n",
    "\n",
    "### Constraints : --------\n",
    "\n",
    "### Test Cases:\n",
    "* mergeString('abcd', 'abcd') -> 'aabbccdd'\n",
    "* mergeString('abc', '123456') -> 'a1b2c3456'\n",
    "* mergeString('0', '123456') -> '0123456'\n"
   ]
  },
  {
   "cell_type": "code",
   "execution_count": 5,
   "metadata": {},
   "outputs": [
    {
     "name": "stdout",
     "output_type": "stream",
     "text": [
      "aabbccdd\n",
      "a1b2c3456\n",
      "0123456\n"
     ]
    }
   ],
   "source": [
    "def mergeString(a,b):\n",
    "    i = len(a)\n",
    "    j = len(b)\n",
    "    s=''\n",
    "    if i>j:\n",
    "        k = len(b)\n",
    "    elif i==j:\n",
    "        k = len(a)\n",
    "    else:\n",
    "        k =len(a)\n",
    "    for l in range(k):\n",
    "        s += a[l] + b[l]\n",
    "    if i>j:\n",
    "        for l in range(j,i):\n",
    "            s += a[l]\n",
    "    elif i<j:\n",
    "        for l in range(i,j):\n",
    "            s += b[l]\n",
    "    return s\n",
    "        \n",
    "print(mergeString('abcd', 'abcd'))\n",
    "print(mergeString('abc', '123456'))\n",
    "print(mergeString('0', '123456'))"
   ]
  },
  {
   "cell_type": "markdown",
   "metadata": {},
   "source": [
    "## Problem 9 : \n",
    "\n",
    "### Problem Statement:   Define a function to convert a binary number to the corresponding decimal number\n",
    "\n",
    "### Constraints : Given number to be in range [1,1000]\n",
    "\n",
    "### Test Cases:\n",
    "* binaryToDecimal(1100) -> 12\n",
    "* binaryToDecimal(1010) -> 10\n",
    "* binaryToDecimal(111000) -> 56\n"
   ]
  },
  {
   "cell_type": "code",
   "execution_count": 6,
   "metadata": {},
   "outputs": [
    {
     "name": "stdout",
     "output_type": "stream",
     "text": [
      "12\n",
      "10\n",
      "56\n"
     ]
    }
   ],
   "source": [
    "def binaryToDecimal(n):\n",
    "    sum = 0\n",
    "    l = len(str(n))\n",
    "    for i in range(0,l):\n",
    "        rem = n%2\n",
    "        n = int(n/10)\n",
    "        sum += (rem*2**i)\n",
    "    return sum\n",
    "\n",
    "print(binaryToDecimal(1100))\n",
    "print(binaryToDecimal(1010))\n",
    "print(binaryToDecimal(111000))        "
   ]
  }
 ],
 "metadata": {
  "kernelspec": {
   "display_name": "Python 3",
   "language": "python",
   "name": "python3"
  },
  "language_info": {
   "codemirror_mode": {
    "name": "ipython",
    "version": 3
   },
   "file_extension": ".py",
   "mimetype": "text/x-python",
   "name": "python",
   "nbconvert_exporter": "python",
   "pygments_lexer": "ipython3",
   "version": "3.7.3"
  }
 },
 "nbformat": 4,
 "nbformat_minor": 2
}
