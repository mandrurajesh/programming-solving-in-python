{
 "cells": [
  {
   "cell_type": "markdown",
   "metadata": {},
   "source": [
    "# Binary search program"
   ]
  },
  {
   "cell_type": "code",
   "execution_count": 12,
   "metadata": {},
   "outputs": [
    {
     "name": "stdout",
     "output_type": "stream",
     "text": [
      "enter a number of elements in a list3\n",
      "enter a number into array1\n",
      "enter a number into array2\n",
      "enter a number into array3\n",
      "elements of an array are: [1, 2, 3]\n",
      "enter a number to search2\n",
      "Element is present at index  2\n"
     ]
    }
   ],
   "source": [
    "def binarySearch (arr, l, r, x): \n",
    "  \n",
    "    if r >= l: \n",
    "  \n",
    "        mid = int(l + (r - l)/2)\n",
    "        if arr[mid] == x: \n",
    "            return mid \n",
    "        elif arr[mid] > x: \n",
    "            return binarySearch(arr, l, mid-1, x) \n",
    "        else: \n",
    "            return binarySearch(arr, mid + 1, r, x) \n",
    "  \n",
    "    else: \n",
    "        return -1\n",
    "arr = [ ]\n",
    "num=int(input(\"enter a number of elements in a list\"))\n",
    "for i in range(0,num):\n",
    "    ele=int(input(\"enter a number into array\"))\n",
    "    arr.append(ele)\n",
    "print(\"elements of an array are:\",arr)\n",
    "    \n",
    "x =int(input(\"enter a number to search\"))\n",
    "result = binarySearch(arr, 0, len(arr)-1, x) \n",
    "  \n",
    "if result != -1: \n",
    "    print (\"Element is present at index % d\" % int(result+1)) \n",
    "else: \n",
    "    print (\"Element is not present in array\")"
   ]
  },
  {
   "cell_type": "markdown",
   "metadata": {},
   "source": [
    "# Find all unique elements from the list"
   ]
  },
  {
   "cell_type": "code",
   "execution_count": 14,
   "metadata": {},
   "outputs": [
    {
     "name": "stdout",
     "output_type": "stream",
     "text": [
      "the unique values from 1st list is\n",
      "10\n",
      "20\n",
      "30\n",
      "40\n",
      "\n",
      "the unique values from 2nd list is\n",
      "1\n",
      "2\n",
      "3\n",
      "4\n",
      "5\n"
     ]
    }
   ],
   "source": [
    "def unique(list1): \n",
    "    unique_list = [] \n",
    "    for x in list1: \n",
    "        if x not in unique_list: \n",
    "            unique_list.append(x) \n",
    "    for x in unique_list: \n",
    "        print (x) \n",
    "      \n",
    "    \n",
    "list1 = [10, 20, 10, 30, 40, 40] \n",
    "print(\"the unique values from 1st list is\") \n",
    "unique(list1)  \n",
    "list2 =[1, 2, 1, 1, 3, 4, 3, 3, 5] \n",
    "print(\"\\nthe unique values from 2nd list is\") \n",
    "unique(list2) "
   ]
  },
  {
   "cell_type": "markdown",
   "metadata": {},
   "source": [
    "# Sort the elements of an array"
   ]
  },
  {
   "cell_type": "code",
   "execution_count": 16,
   "metadata": {},
   "outputs": [
    {
     "name": "stdout",
     "output_type": "stream",
     "text": [
      "sorting order [10, 11, 12, 14, 15, 16, 19]\n"
     ]
    }
   ],
   "source": [
    "a = [16, 19, 11, 15, 10, 12, 14]\n",
    "for j in range(len(a)):\n",
    "    swapped = False\n",
    "    i = 0\n",
    "    while i<len(a)-1:\n",
    "        if a[i]>a[i+1]:\n",
    "            a[i],a[i+1] = a[i+1],a[i]\n",
    "            swapped = True\n",
    "        i = i+1\n",
    "    if swapped == False:\n",
    "        break\n",
    "print (\"sorting order\",a)"
   ]
  },
  {
   "cell_type": "code",
   "execution_count": null,
   "metadata": {},
   "outputs": [],
   "source": []
  }
 ],
 "metadata": {
  "kernelspec": {
   "display_name": "Python 3",
   "language": "python",
   "name": "python3"
  },
  "language_info": {
   "codemirror_mode": {
    "name": "ipython",
    "version": 3
   },
   "file_extension": ".py",
   "mimetype": "text/x-python",
   "name": "python",
   "nbconvert_exporter": "python",
   "pygments_lexer": "ipython3",
   "version": "3.7.3"
  }
 },
 "nbformat": 4,
 "nbformat_minor": 2
}
