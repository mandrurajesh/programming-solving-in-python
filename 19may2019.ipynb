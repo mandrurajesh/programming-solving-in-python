{
 "cells": [
  {
   "cell_type": "code",
   "execution_count": 3,
   "metadata": {},
   "outputs": [
    {
     "data": {
      "text/plain": [
       "174"
      ]
     },
     "execution_count": 3,
     "metadata": {},
     "output_type": "execute_result"
    }
   ],
   "source": [
    "def cycleLength(n):\n",
    "    length=1\n",
    "    while n!=1:\n",
    "        if(n%2==0):\n",
    "            n=n/2\n",
    "        else:\n",
    "            n=3*n+1\n",
    "        length+=1\n",
    "    return length\n",
    "def mainSolution(i,j):\n",
    "    maxlen = 0\n",
    "    for k in range (i,j+1):\n",
    "        length= cycleLength(k)\n",
    "        if maxlen<length :\n",
    "            maxlen=length\n",
    "    return maxlen\n",
    "\n",
    "mainSolution(900,1000)        "
   ]
  },
  {
   "cell_type": "code",
   "execution_count": 4,
   "metadata": {},
   "outputs": [
    {
     "data": {
      "text/plain": [
       "174"
      ]
     },
     "execution_count": 4,
     "metadata": {},
     "output_type": "execute_result"
    }
   ],
   "source": [
    "def cycleLength(n):\n",
    "    length=1\n",
    "    while n!=1:\n",
    "        if(n%2==0):\n",
    "            n=n/2\n",
    "        else:\n",
    "            n=3*n+1\n",
    "        length+=1\n",
    "    return length\n",
    "def mainSolution(i,j):\n",
    "    #return max(map(cycleLength,range(i,j+1)))\n",
    "    lenlist=[cycleLength(k) for k in range (i,j+1)]\n",
    "    return max(lenlist)\n",
    "mainSolution(900,1000)        "
   ]
  },
  {
   "cell_type": "markdown",
   "metadata": {},
   "source": [
    "## Minesweeper program"
   ]
  },
  {
   "cell_type": "code",
   "execution_count": null,
   "metadata": {},
   "outputs": [],
   "source": []
  }
 ],
 "metadata": {
  "kernelspec": {
   "display_name": "Python 3",
   "language": "python",
   "name": "python3"
  },
  "language_info": {
   "codemirror_mode": {
    "name": "ipython",
    "version": 3
   },
   "file_extension": ".py",
   "mimetype": "text/x-python",
   "name": "python",
   "nbconvert_exporter": "python",
   "pygments_lexer": "ipython3",
   "version": "3.7.3"
  }
 },
 "nbformat": 4,
 "nbformat_minor": 2
}
