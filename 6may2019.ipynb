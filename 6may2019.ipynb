{
 "cells": [
  {
   "cell_type": "markdown",
   "metadata": {},
   "source": [
    "# average of N numbers"
   ]
  },
  {
   "cell_type": "code",
   "execution_count": 5,
   "metadata": {},
   "outputs": [
    {
     "name": "stdout",
     "output_type": "stream",
     "text": [
      "How many numbers: 3\n",
      "Enter number : 1\n",
      "Enter number : 2\n",
      "Enter number : 3\n",
      "Average of  3  numbers is : 2.0\n"
     ]
    }
   ],
   "source": [
    "num = int(input('How many numbers: '))\n",
    "total_sum=0\n",
    "for n in range(num):\n",
    "    numbers = float(input('Enter number : '))\n",
    "    total_sum =total_sum+numbers\n",
    "    avg = total_sum/num\n",
    "print('Average of ', num, ' numbers is :', avg)"
   ]
  },
  {
   "cell_type": "markdown",
   "metadata": {},
   "source": [
    "# Minimum number from given numbers"
   ]
  },
  {
   "cell_type": "code",
   "execution_count": 6,
   "metadata": {},
   "outputs": [
    {
     "name": "stdout",
     "output_type": "stream",
     "text": [
      "Enter number of elements in list: 3\n",
      "Enter elements: 2\n",
      "Enter elements: 1\n",
      "Enter elements: 3\n",
      "Smallest element is: 1\n"
     ]
    }
   ],
   "source": [
    "list1 = [] \n",
    "  \n",
    "\n",
    "num = int(input(\"Enter number of elements in list: \")) \n",
    "  \n",
    "\n",
    "for i in range(1, num + 1): \n",
    "    ele = int(input(\"Enter elements: \")) \n",
    "    list1.append(ele) \n",
    "      \n",
    "\n",
    "print(\"Smallest element is:\", min(list1)) "
   ]
  },
  {
   "cell_type": "markdown",
   "metadata": {},
   "source": [
    "# Maximum number from list"
   ]
  },
  {
   "cell_type": "code",
   "execution_count": 7,
   "metadata": {},
   "outputs": [
    {
     "name": "stdout",
     "output_type": "stream",
     "text": [
      "Enter number of elements in list: 2\n",
      "Enter elements: 1\n",
      "Enter elements: 2\n",
      "Largest element is: 2\n"
     ]
    }
   ],
   "source": [
    " \n",
    "list1 = [] \n",
    "  \n",
    "\n",
    "num = int(input(\"Enter number of elements in list: \")) \n",
    "  \n",
    "\n",
    "for i in range(1, num + 1): \n",
    "    ele = int(input(\"Enter elements: \")) \n",
    "    list1.append(ele) \n",
    "print(\"Largest element is:\", max(list1)) "
   ]
  },
  {
   "cell_type": "markdown",
   "metadata": {},
   "source": [
    "# Linear search Program"
   ]
  },
  {
   "cell_type": "code",
   "execution_count": 9,
   "metadata": {},
   "outputs": [
    {
     "name": "stdout",
     "output_type": "stream",
     "text": [
      "list of items is [5, 7, 10, 12, 15]\n",
      "enter item to search:5\n",
      "item found at position: 1\n"
     ]
    }
   ],
   "source": [
    "items = [5, 7, 10, 12, 15]\n",
    " \n",
    "print(\"list of items is\", items)\n",
    " \n",
    "x = int(input(\"enter item to search:\"))\n",
    " \n",
    "i = flag = 0\n",
    " \n",
    "while i < len(items):\n",
    "\tif items[i] == x:\n",
    "\t\tflag = 1\n",
    "\t\tbreak\n",
    " \n",
    "\ti = i + 1\n",
    " \n",
    "if flag == 1:\n",
    "\tprint(\"item found at position:\", i + 1)\n",
    "else:\n",
    "\tprint(\"item not found\")"
   ]
  }
 ],
 "metadata": {
  "kernelspec": {
   "display_name": "Python 3",
   "language": "python",
   "name": "python3"
  },
  "language_info": {
   "codemirror_mode": {
    "name": "ipython",
    "version": 3
   },
   "file_extension": ".py",
   "mimetype": "text/x-python",
   "name": "python",
   "nbconvert_exporter": "python",
   "pygments_lexer": "ipython3",
   "version": "3.7.3"
  }
 },
 "nbformat": 4,
 "nbformat_minor": 2
}
